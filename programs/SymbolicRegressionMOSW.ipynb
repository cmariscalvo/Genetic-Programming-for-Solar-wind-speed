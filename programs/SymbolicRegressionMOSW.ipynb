{
 "cells": [
  {
   "cell_type": "markdown",
   "id": "fb14774a",
   "metadata": {},
   "source": [
    "# Symbolic regression monobjective for slow solar wind"
   ]
  },
  {
   "cell_type": "markdown",
   "id": "1963ca1d",
   "metadata": {},
   "source": [
    "#### 1. Libraries importation"
   ]
  },
  {
   "cell_type": "code",
   "execution_count": 1,
   "id": "130ac64e",
   "metadata": {},
   "outputs": [],
   "source": [
    "import math\n",
    "from tqdm import tqdm\n",
    "import random\n",
    "import csv\n",
    "import datetime\n",
    "import time\n",
    "import numpy\n",
    "import operator\n",
    "import matplotlib.pyplot as plt\n",
    "import multiprocessing\n",
    "from concurrent.futures import ProcessPoolExecutor, ThreadPoolExecutor\n",
    "import pandas as pd\n",
    "from deap import algorithms, base, creator , tools, gp\n",
    "from sympy import sympify, sin, cos, simplify\n",
    "import operations\n",
    "import evaluators"
   ]
  },
  {
   "cell_type": "markdown",
   "id": "46bc9e6f",
   "metadata": {},
   "source": [
    "#### 2. CSV importation"
   ]
  },
  {
   "cell_type": "code",
   "execution_count": 2,
   "id": "8480873c",
   "metadata": {},
   "outputs": [],
   "source": [
    "slow_wind = pd.read_csv(r'C:\\Users\\Christian Mariscal\\Documents\\TFM\\venv_TFM\\gp_data\\slow_model_io.csv', delimiter = ',')\n",
    "forecast = slow_wind['forecast']\n",
    "slow_wind = slow_wind.drop(['Unnamed: 0', 'forecast'], axis = 1)"
   ]
  },
  {
   "cell_type": "markdown",
   "id": "934c1d62",
   "metadata": {},
   "source": [
    "#### 3. Defining primitive set"
   ]
  },
  {
   "cell_type": "code",
   "execution_count": 3,
   "id": "93f2d09d",
   "metadata": {},
   "outputs": [],
   "source": [
    "#Second argument = number of variables in problem (this case, 56 vars)\n",
    "pset = gp.PrimitiveSet(\"MAIN\", 56)\n",
    "#Second argument = arity\n",
    "pset.addPrimitive(operations.add, 2)\n",
    "pset.addPrimitive(operations.sub, 2)\n",
    "pset.addPrimitive(operations.mul, 2)\n",
    "pset.addPrimitive(operations.protectedDiv, 2)\n",
    "pset.addPrimitive(operations.cos, 1)\n",
    "pset.addPrimitive(operations.sin, 1)\n",
    "pset.addPrimitive(operations.tan, 1)\n",
    "pset.addPrimitive(operations.asin, 1)\n",
    "pset.addPrimitive(operations.acos, 1)\n",
    "pset.addPrimitive(operations.atan, 1)\n",
    "pset.addPrimitive(operations.log10, 1)\n",
    "pset.addPrimitive(operations.log, 1)\n",
    "pset.addPrimitive(operations.sqrt, 1)\n",
    "pset.addPrimitive(operations.exp, 1)\n",
    "pset.addPrimitive(operations.pow, 2)\n",
    "\n",
    "pset.addEphemeralConstant(\"rand101\", lambda: random.randint(-1000,1000))\n",
    "pset.addEphemeralConstant(\"pi\", lambda: math.pi)\n",
    "pset.addEphemeralConstant(\"e\", lambda: math.e)\n",
    "\n",
    "#Renaming arguments\n",
    "renArg = dict(zip(pset.arguments, list(slow_wind.columns)))\n",
    "pset.renameArguments(**renArg)"
   ]
  },
  {
   "cell_type": "markdown",
   "id": "961783cd",
   "metadata": {},
   "source": [
    "#### 4. Functions definition"
   ]
  },
  {
   "cell_type": "code",
   "execution_count": 4,
   "id": "f07b3c4f",
   "metadata": {},
   "outputs": [],
   "source": [
    "def avgAbsError(individual, dataframe, forecast):\n",
    "    \n",
    "    # Transform the tree expression in a callable function\n",
    "    func = toolbox.compile(expr=individual)\n",
    "    \n",
    "    # Evaluate the mean squared error between the expression and the real function\n",
    "    AvgAbsError = [abs(func(*dataframe.iloc[nrow]) - forecast[nrow]) for nrow in random.sample(range(len(dataframe)), int(len(dataframe)/2))]\n",
    "\n",
    "    return sum(AvgAbsError) / len(AvgAbsError),"
   ]
  },
  {
   "cell_type": "code",
   "execution_count": 5,
   "id": "e36561bd",
   "metadata": {},
   "outputs": [],
   "source": [
    "def EquationSimplifier(ind): \n",
    "    locals = {\n",
    "        'sub': operations.sub,\n",
    "        'protectedDiv': operations.protectedDiv,\n",
    "        'mul': operations.mul,\n",
    "        'add': operations.add,\n",
    "        'pow': operations.pow\n",
    "    }\n",
    "    expr = sympify(ind , locals=locals)\n",
    "    return expr"
   ]
  },
  {
   "cell_type": "code",
   "execution_count": 6,
   "id": "7eb5dbac",
   "metadata": {},
   "outputs": [],
   "source": [
    "def StatsToCsv(StatsDF):\n",
    "    replacement = [' ',':','.']\n",
    "    date=datetime.datetime.now()\n",
    "    for sign in replacement:\n",
    "        date = str(date).replace(str(sign), '_') \n",
    "    StatsDF.to_csv(f'C:\\Users\\Christian Mariscal\\Documents\\TFM\\\\venv_TFM\\Stats\\MonoStats\\slow\\Stats{date}.csv')"
   ]
  },
  {
   "cell_type": "code",
   "execution_count": 7,
   "id": "4160c1a7",
   "metadata": {},
   "outputs": [],
   "source": [
    "def sizeAvgMax(stats): \n",
    "    fig, ax1 = plt.figure(), plt.axes()\n",
    "    ax1.plot(stats['size_avg'], color = 'g', linestyle = '-', label = 'size_avg')\n",
    "    ax1.plot(stats['size_max'], color = 'r', linestyle = '-', label = 'size_max')\n",
    "    ax1.set_ylabel('Number of nodes')\n",
    "    ax1.set_xlabel('Generations')\n",
    "    ax1.set_title('Size evolution')\n",
    "    plt.legend()\n",
    "    plt.savefig(r'C:\\Users\\Christian Mariscal\\Documents\\TFM\\venv_TFM\\results\\slow\\mono\\graphs\\sizeAvgMax.png', facecolor='white')\n",
    "    plt.show()"
   ]
  },
  {
   "cell_type": "code",
   "execution_count": 8,
   "id": "c81fa8de",
   "metadata": {},
   "outputs": [],
   "source": [
    "def depthMaxAvg(stats, heightLimit = None):\n",
    "    fig, ax1 = plt.figure(), plt.axes()\n",
    "    ax1.plot(stats['height_max'], color = 'r', linestyle = '-', label = 'depth_max')\n",
    "    ax1.plot(stats['height_avg'], color = 'g', linestyle = '-', label = 'depth_avg')\n",
    "    ax1.plot([heightLimit for i in range(len(stats))], color = 'y', linestyle = '-', linewidth = 3, label = 'Depth limit')\n",
    "    ax1.set_ylabel('Tree depth')\n",
    "    ax1.set_xlabel('Generations')\n",
    "    ax1.set_title('Tree depth evolution')\n",
    "    plt.legend()\n",
    "    plt.savefig(r'C:\\Users\\Christian Mariscal\\Documents\\TFM\\venv_TFM\\results\\slow\\mono\\graphs\\depthMaxAvg.png', facecolor='white')\n",
    "    plt.show()"
   ]
  },
  {
   "cell_type": "code",
   "execution_count": 9,
   "id": "cbb69137",
   "metadata": {},
   "outputs": [],
   "source": [
    "def plotErrorDist(equation, pset, baseline, data, forecast):\n",
    "    '''\n",
    "    Distribution plot of an individual's errors. \n",
    "    \n",
    "    :param equation(str): Equation based on pset.context operations\n",
    "    :param pset(deap.gp.PrimitiveSet): Primitive set\n",
    "    :param baseline(float): Algorithm baseline.\n",
    "    :param data: Pandas dataframe containing solar wind data\n",
    "    :param forecast: Pandas dataframe containing forecast to compare to.\n",
    "    \n",
    "    '''\n",
    "    replacement = [' ',':','.']\n",
    "    date=datetime.datetime.now()\n",
    "    date = time.time()\n",
    "    for sign in replacement:\n",
    "        date = str(date).replace(str(sign), '_') \n",
    "    \n",
    "    func = gp.compile(expr = equation, pset = pset)\n",
    "    predicted = [func(*data.iloc[i]) for i in range(len(data))]\n",
    "    forec = [forecast.iloc[i] for i in range(len(data))]\n",
    "    errors = [abs(i-j) for i,j in zip(predicted, forec)]\n",
    "    errors = pd.DataFrame(errors, columns=['errors'])\n",
    "    bad_error = errors.loc[errors['errors']>baseline]\n",
    "    good_error = errors.loc[errors['errors']<baseline]\n",
    "    plt.hist(bad_error, color = 'r', label = f'Error > baseline: {len(bad_error)}', bins= int((bad_error.max()-bad_error.min())/5))\n",
    "    plt.hist(good_error, color = 'g', label = f'Error < baseline: {len(good_error)}', bins= int((good_error.max()-good_error.min())/5))\n",
    "    plt.legend()\n",
    "    plt.title('Distribution plot of errors')\n",
    "    plt.ylabel('Frequency')\n",
    "    plt.xlabel('Average absolute error')\n",
    "    plt.savefig(r'C:\\Users\\Christian Mariscal\\Documents\\TFM\\venv_TFM\\results\\slow\\mono\\graphs\\errorDist.png', facecolor='white')\n",
    "    plt.show()"
   ]
  },
  {
   "cell_type": "code",
   "execution_count": 10,
   "id": "967ebf09",
   "metadata": {},
   "outputs": [],
   "source": [
    "def absErrMinAvg(stats): \n",
    "    fig, ax1 = plt.figure(), plt.axes()\n",
    "    ax1.plot(stats['AAE_min'], color = 'g', linestyle = '-', label = 'Min abs err')\n",
    "    #ax1.plot(stats['AAE_avg'], color = 'r', linestyle = '-', label = 'Avg abs err')\n",
    "    ax1.set_ylabel('Absolute error')\n",
    "    ax1.set_xlabel('Generations')\n",
    "    ax1.set_title('Absolute error evolution')\n",
    "    plt.legend()\n",
    "    plt.savefig(r'C:\\Users\\Christian Mariscal\\Documents\\TFM\\venv_TFM\\results\\slow\\mono\\graphs\\absErrMinAvg.png', facecolor='white')\n",
    "    plt.show()"
   ]
  },
  {
   "cell_type": "code",
   "execution_count": 11,
   "id": "fefe4f4d",
   "metadata": {},
   "outputs": [],
   "source": [
    "def eaSimpleOr(population, toolbox, cxpb, mutpb, ngen, stats=None,\n",
    "             halloffame=None, verbose=__debug__, multiThread = False, multiProcess = False):\n",
    "\n",
    "    print(f'--------Starting algorithm of {len(population)} individuals and {ngen} generations--------')\n",
    "    start = time.time()\n",
    "    logbook = tools.Logbook()\n",
    "    logbook.header = ['gen', 'nevals'] + (stats.fields if stats else [])\n",
    "\n",
    "    # Evaluate the individuals with an invalid fitness\n",
    "    invalid_ind = [ind for ind in population if not ind.fitness.valid]\n",
    "    if multiThread == True: \n",
    "        print(f'---------Entering multithreading--------')\n",
    "        with ThreadPoolExecutor() as executor:\n",
    "            futures = []\n",
    "            for ind in invalid_ind: \n",
    "                future = executor.submit(toolbox.evaluate, ind)\n",
    "                futures.append(future)\n",
    "            fitnesses = [future.result() for future in futures]\n",
    "    elif multiProcess==True:\n",
    "        print('--------Entering multiprocessing--------')\n",
    "        fitnesses = toolbox.map(toolbox.evaluate, invalid_ind)\n",
    "    else: \n",
    "        print('--------Entering without accelerators activated--------')\n",
    "        fitnesses = toolbox.map(toolbox.evaluate, invalid_ind)\n",
    "         \n",
    "    for ind, fit in zip(invalid_ind, fitnesses):\n",
    "        ind.fitness.values = fit\n",
    "    if halloffame is not None:\n",
    "        halloffame.update(population)\n",
    "        hof_size = len(halloffame.items) \n",
    "    else: \n",
    "        hof_size=0\n",
    "\n",
    "    record = stats.compile(population) if stats else {}\n",
    "    logbook.record(gen=0, nevals=len(invalid_ind), **record)\n",
    "    # Begin the generational process\n",
    "    for gen in tqdm(range(1, ngen + 1)):\n",
    "        # Select the next generation individuals\n",
    "        offspring = toolbox.select(population, len(population)-hof_size)\n",
    "\n",
    "        # Vary the pool of individuals\n",
    "        offspring = algorithms.varOr(offspring, toolbox, len(population)-hof_size, cxpb, mutpb)\n",
    "\n",
    "        # Evaluate the individuals with an invalid fitness\n",
    "        invalid_ind = [ind for ind in offspring if not ind.fitness.valid]\n",
    "        \n",
    "        if multiThread == True: \n",
    "            print(f'--------Entering generation {gen}--------')\n",
    "            with ThreadPoolExecutor() as executor:\n",
    "                futures = []\n",
    "                for ind in invalid_ind: \n",
    "                    future = executor.submit(toolbox.evaluate, ind)\n",
    "                    futures.append(future)\n",
    "                fitnesses = [future.result() for future in futures]\n",
    "        else: \n",
    "            print(f'--------Entering generation {gen}--------')\n",
    "            fitnesses = list(toolbox.map(toolbox.evaluate, invalid_ind))\n",
    "        \n",
    "        for ind, fit in zip(invalid_ind, fitnesses):\n",
    "            ind.fitness.values = fit\n",
    "\n",
    "        # Update the hall of fame with the generated individuals\n",
    "        if halloffame is not None:\n",
    "            offspring.extend(halloffame.items)\n",
    "            halloffame.update(offspring)\n",
    "            fitnesses.extend(hof.fitness.values for hof in halloffame)\n",
    "            \n",
    "        # Replace the current population by the offspring\n",
    "        population[:] = offspring\n",
    "\n",
    "        # Append the current generation statistics to the logbook\n",
    "        record = stats.compile(population) if stats else {}\n",
    "        logbook.record(gen=gen, nevals=len(invalid_ind), **record)\n",
    "        if verbose:\n",
    "            StatisticsDataFrame = (logbook.stream)\n",
    "            \n",
    "        bestMetric = min([king.fitness.values for king in hof.items])\n",
    "        for king in hof.items: \n",
    "            if king.fitness.values == bestMetric: \n",
    "                emperor = king\n",
    "                \n",
    "        print(f\"Best individual fitness is: {bestMetric}\")\n",
    "        print(f'{popSize};{cxpb};{mtpb};{ngen};{maxHeight};{accelerator};{emperor.__str__()};{bestMetric};', file=open(r'C:\\Users\\Christian Mariscal\\Documents\\TFM\\venv_TFM\\results\\slow\\mono\\genStats\\results.txt', 'a'))\n",
    "\n",
    "    end = time.time()\n",
    "    \n",
    "    print(f'--------Algorithm execution took {end - start} s--------')\n",
    "    \n",
    "    return population, logbook, halloffame, StatisticsDataFrame"
   ]
  },
  {
   "cell_type": "markdown",
   "id": "766fcc72",
   "metadata": {},
   "source": [
    "#### 5. Parameters definition"
   ]
  },
  {
   "cell_type": "code",
   "execution_count": 12,
   "id": "628f9c61",
   "metadata": {
    "scrolled": false
   },
   "outputs": [],
   "source": [
    "#Defining fitness class\n",
    "creator.create(\"FitnessMin\", base.Fitness, weights=(-1,))\n",
    "\n",
    "#Defining individuals shape and associating fitness attribute\n",
    "creator.create(\"Individual\", gp.PrimitiveTree, fitness=creator.FitnessMin)\n",
    "\n",
    "#Creating toolbox to register: population creation, evaluation function, selection mecanism\n",
    "#and genetic operators\n",
    "toolbox = base.Toolbox()\n",
    "toolbox.register(\"expr\", gp.genHalfAndHalf, pset=pset, min_=1, max_=2)\n",
    "toolbox.register(\"individual\", tools.initIterate, creator.Individual, toolbox.expr)\n",
    "toolbox.register(\"population\", tools.initRepeat, list, toolbox.individual)\n",
    "toolbox.register(\"compile\", gp.compile, pset=pset)\n",
    "toolbox.register(\"evaluate\", avgAbsError, dataframe=slow_wind, forecast=forecast)\n",
    "toolbox.register(\"select\", tools.selTournament, tournsize=3)\n",
    "toolbox.register(\"mate\", gp.cxOnePoint)\n",
    "toolbox.register(\"expr_mut\", gp.genFull, min_=0, max_=2)\n",
    "toolbox.register(\"mutate\", gp.mutUniform, expr=toolbox.expr_mut, pset=pset)\n",
    "maxHeight = 10\n",
    "toolbox.decorate(\"mate\", gp.staticLimit(key=operator.attrgetter(\"height\"), max_value=maxHeight))\n",
    "toolbox.decorate(\"mutate\", gp.staticLimit(key=operator.attrgetter(\"height\"), max_value=maxHeight))"
   ]
  },
  {
   "cell_type": "markdown",
   "id": "6e83c5c2",
   "metadata": {},
   "source": [
    "#### 6. Algorithm initialization"
   ]
  },
  {
   "cell_type": "code",
   "execution_count": 13,
   "id": "55ac9c52",
   "metadata": {},
   "outputs": [
    {
     "name": "stdout",
     "output_type": "stream",
     "text": [
      "------Let's select algorithm parameters------\n",
      "Select number of individuals: 10\n",
      "Select crossover probability: .9\n",
      "Select mutation probability: .1\n",
      "Select number of generations: 10\n",
      "Select accelerator: Multithreading(1), multiprocessing(2) or none(3): 1\n",
      "--------Starting algorithm of 10 individuals and 10 generations--------\n",
      "---------Entering multithreading--------\n"
     ]
    },
    {
     "name": "stderr",
     "output_type": "stream",
     "text": [
      "\r",
      "  0%|                                                                                           | 0/10 [00:00<?, ?it/s]"
     ]
    },
    {
     "name": "stdout",
     "output_type": "stream",
     "text": [
      "--------Entering generation 1--------\n"
     ]
    },
    {
     "name": "stderr",
     "output_type": "stream",
     "text": [
      "\r",
      " 10%|████████▎                                                                          | 1/10 [00:00<00:08,  1.07it/s]"
     ]
    },
    {
     "name": "stdout",
     "output_type": "stream",
     "text": [
      "Best individual fitness is: (69.28929945405747,)\n",
      "--------Entering generation 2--------\n"
     ]
    },
    {
     "name": "stderr",
     "output_type": "stream",
     "text": [
      "\r",
      " 20%|████████████████▌                                                                  | 2/10 [00:02<00:08,  1.04s/it]"
     ]
    },
    {
     "name": "stdout",
     "output_type": "stream",
     "text": [
      "Best individual fitness is: (69.28929945405747,)\n",
      "--------Entering generation 3--------\n"
     ]
    },
    {
     "name": "stderr",
     "output_type": "stream",
     "text": [
      "\r",
      " 30%|████████████████████████▉                                                          | 3/10 [00:03<00:08,  1.21s/it]"
     ]
    },
    {
     "name": "stdout",
     "output_type": "stream",
     "text": [
      "Best individual fitness is: (69.28929945405747,)\n",
      "--------Entering generation 4--------\n"
     ]
    },
    {
     "name": "stderr",
     "output_type": "stream",
     "text": [
      "\r",
      " 40%|█████████████████████████████████▏                                                 | 4/10 [00:04<00:07,  1.27s/it]"
     ]
    },
    {
     "name": "stdout",
     "output_type": "stream",
     "text": [
      "Best individual fitness is: (67.69528369810034,)\n",
      "--------Entering generation 5--------\n"
     ]
    },
    {
     "name": "stderr",
     "output_type": "stream",
     "text": [
      "\r",
      " 50%|█████████████████████████████████████████▌                                         | 5/10 [00:06<00:06,  1.31s/it]"
     ]
    },
    {
     "name": "stdout",
     "output_type": "stream",
     "text": [
      "Best individual fitness is: (67.69528369810034,)\n",
      "--------Entering generation 6--------\n"
     ]
    },
    {
     "name": "stderr",
     "output_type": "stream",
     "text": [
      "\r",
      " 60%|█████████████████████████████████████████████████▊                                 | 6/10 [00:07<00:05,  1.33s/it]"
     ]
    },
    {
     "name": "stdout",
     "output_type": "stream",
     "text": [
      "Best individual fitness is: (67.69528369810034,)\n",
      "--------Entering generation 7--------\n"
     ]
    },
    {
     "name": "stderr",
     "output_type": "stream",
     "text": [
      "\r",
      " 70%|██████████████████████████████████████████████████████████                         | 7/10 [00:08<00:03,  1.23s/it]"
     ]
    },
    {
     "name": "stdout",
     "output_type": "stream",
     "text": [
      "Best individual fitness is: (67.69528369810034,)\n",
      "--------Entering generation 8--------\n"
     ]
    },
    {
     "name": "stderr",
     "output_type": "stream",
     "text": [
      "\r",
      " 80%|██████████████████████████████████████████████████████████████████▍                | 8/10 [00:09<00:02,  1.16s/it]"
     ]
    },
    {
     "name": "stdout",
     "output_type": "stream",
     "text": [
      "Best individual fitness is: (67.69528369810034,)\n",
      "--------Entering generation 9--------\n"
     ]
    },
    {
     "name": "stderr",
     "output_type": "stream",
     "text": [
      "\r",
      " 90%|██████████████████████████████████████████████████████████████████████████▋        | 9/10 [00:10<00:01,  1.21s/it]"
     ]
    },
    {
     "name": "stdout",
     "output_type": "stream",
     "text": [
      "Best individual fitness is: (67.69528369810034,)\n",
      "--------Entering generation 10--------\n"
     ]
    },
    {
     "name": "stderr",
     "output_type": "stream",
     "text": [
      "100%|██████████████████████████████████████████████████████████████████████████████████| 10/10 [00:12<00:00,  1.23s/it]"
     ]
    },
    {
     "name": "stdout",
     "output_type": "stream",
     "text": [
      "Best individual fitness is: (67.69528369810034,)\n",
      "--------Algorithm execution took 14.130481719970703 s--------\n",
      "Metric of best individual is: (67.69528369810034,)\n",
      "--------Original equation--------: add(protectedDiv(Bx_1d_4, speed_carrington_2), speed_carrington_2)\n",
      "--------Simplified equation--------: Bx_1d_4/speed_carrington_2 + speed_carrington_2\n"
     ]
    },
    {
     "name": "stderr",
     "output_type": "stream",
     "text": [
      "\n"
     ]
    }
   ],
   "source": [
    "if __name__ == \"__main__\": \n",
    "    \n",
    "    random.seed(318)\n",
    "    CPUs = None\n",
    "    multiProcess = False\n",
    "    multiThread = False\n",
    "    \n",
    "    print('------Let\\'s select algorithm parameters------')\n",
    "    popSize=int(input('Select number of individuals: '))\n",
    "    pop = toolbox.population(n=popSize)\n",
    "    cxpb = float(input('Select crossover probability: '))\n",
    "    mtpb = float(input('Select mutation probability: '))\n",
    "    ngen = int(input('Select number of generations: '))\n",
    "    accelerator = int(input('Select accelerator: Multithreading(1), multiprocessing(2) or none(3): '))\n",
    "    if accelerator == 1: \n",
    "        multiThread = True\n",
    "    elif accelerator == 2:\n",
    "        multiProcess = True\n",
    "        CPUs = int(input(f'Select number of cpu\\'s for multiprocessing (CPUs available = {multiprocessing.cpu_count()}): '))\n",
    "        pool = multiprocessing.Pool(CPUs)\n",
    "        toolbox.register(\"map\", pool.map)\n",
    "        \n",
    "    hof = tools.HallOfFame(3)\n",
    "    stats_fit_AAE = tools.Statistics(lambda ind: ind.fitness.values)\n",
    "    stats_size = tools.Statistics(len)\n",
    "    stats_height = tools.Statistics(lambda ind: ind.height)\n",
    "    mstats = tools.MultiStatistics(AAE=stats_fit_AAE, size=stats_size, height=stats_height)\n",
    "    mstats.register(\"avg\", numpy.mean)\n",
    "    mstats.register(\"std\", numpy.std)\n",
    "    mstats.register(\"min\", numpy.min)\n",
    "    mstats.register(\"max\", numpy.max)\n",
    "    \n",
    "    pop, log, hof, StatisticsDataFrame = eaSimpleOr(pop, toolbox, cxpb, mtpb, ngen, stats=mstats, halloffame=hof, verbose=True, multiProcess = multiProcess, multiThread = multiThread)\n",
    "    \n",
    "    #Compute best individual metrics\n",
    "    bestMetric = min([king.fitness.values for king in hof.items])\n",
    "    print(f\"Metric of best individual is: {bestMetric}\")\n",
    "    \n",
    "    #Extracting simpler equation\n",
    "    for king in hof.items: \n",
    "        if king.fitness.values == bestMetric: \n",
    "            emperor = king\n",
    "    SimplerExpr = EquationSimplifier(emperor.__str__())\n",
    "    print(f'--------Original equation--------: {emperor.__str__()}')\n",
    "    print(f'--------Simplified equation--------: {SimplerExpr}')\n",
    "    \n",
    "    #Save stats to csv\n",
    "    StatsToCsv(StatisticsDataFrame)"
   ]
  },
  {
   "cell_type": "markdown",
   "id": "7565e213",
   "metadata": {},
   "source": [
    "#### 7. Graphs"
   ]
  },
  {
   "cell_type": "code",
   "execution_count": 14,
   "id": "994d4bf0",
   "metadata": {},
   "outputs": [
    {
     "data": {
      "image/png": "[encoded data removed]",
      "text/plain": [
       "<Figure size 432x288 with 1 Axes>"
      ]
     },
     "metadata": {
      "needs_background": "light"
     },
     "output_type": "display_data"
    },
    {
     "data": {
      "image/png": "[encoded data removed]",
      "text/plain": [
       "<Figure size 432x288 with 1 Axes>"
      ]
     },
     "metadata": {
      "needs_background": "light"
     },
     "output_type": "display_data"
    },
    {
     "data": {
      "image/png": "[encoded data removed]",
      "text/plain": [
       "<Figure size 432x288 with 1 Axes>"
      ]
     },
     "metadata": {
      "needs_background": "light"
     },
     "output_type": "display_data"
    },
    {
     "data": {
      "image/png": "[encoded data removed]",
      "text/plain": [
       "<Figure size 432x288 with 1 Axes>"
      ]
     },
     "metadata": {
      "needs_background": "light"
     },
     "output_type": "display_data"
    }
   ],
   "source": [
    "if __name__ == '__main__': \n",
    "    baseline = 24.92852089\n",
    "    plotErrorDist(emperor.__str__(), pset, baseline, slow_wind, forecast)\n",
    "    sizeAvgMax(StatisticsDataFrame)\n",
    "    depthMaxAvg(StatisticsDataFrame, maxHeight)\n",
    "    absErrMinAvg(StatisticsDataFrame)"
   ]
  }
 ],
 "metadata": {
  "kernelspec": {
   "display_name": "Python 3 (ipykernel)",
   "language": "python",
   "name": "python3"
  },
  "language_info": {
   "codemirror_mode": {
    "name": "ipython",
    "version": 3
   },
   "file_extension": ".py",
   "mimetype": "text/x-python",
   "name": "python",
   "nbconvert_exporter": "python",
   "pygments_lexer": "ipython3",
   "version": "3.10.5"
  }
 },
 "nbformat": 4,
 "nbformat_minor": 5
}
