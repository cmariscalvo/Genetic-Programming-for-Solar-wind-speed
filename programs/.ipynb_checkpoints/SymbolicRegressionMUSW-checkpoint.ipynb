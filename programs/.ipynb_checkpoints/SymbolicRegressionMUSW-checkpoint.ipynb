{
 "cells": [
  {
   "cell_type": "markdown",
   "id": "fb14774a",
   "metadata": {},
   "source": [
    "# Symbolic regression multiobjective for slow solar wind"
   ]
  },
  {
   "cell_type": "markdown",
   "id": "1963ca1d",
   "metadata": {},
   "source": [
    "#### 1. Libraries importation"
   ]
  },
  {
   "cell_type": "code",
   "execution_count": 1,
   "id": "130ac64e",
   "metadata": {},
   "outputs": [],
   "source": [
    "import math\n",
    "from tqdm import tqdm\n",
    "import random\n",
    "import csv\n",
    "import datetime\n",
    "import time\n",
    "import numpy\n",
    "import operator\n",
    "import matplotlib.pyplot as plt\n",
    "import multiprocessing\n",
    "from concurrent.futures import ProcessPoolExecutor, ThreadPoolExecutor\n",
    "import pandas as pd\n",
    "from deap import algorithms, base, creator , tools, gp\n",
    "from sympy import sympify, sin, cos, simplify\n",
    "import operations\n",
    "import evaluators"
   ]
  },
  {
   "cell_type": "markdown",
   "id": "46bc9e6f",
   "metadata": {},
   "source": [
    "#### 2. CSV importation"
   ]
  },
  {
   "cell_type": "code",
   "execution_count": 2,
   "id": "8480873c",
   "metadata": {},
   "outputs": [],
   "source": [
    "slow_wind = pd.read_csv(r'C:\\Users\\Christian Mariscal\\Documents\\TFM\\venv_TFM\\gp_data\\slow_model_io.csv', delimiter = ',')\n",
    "forecast = slow_wind['forecast']\n",
    "slow_wind = slow_wind.drop(['Unnamed: 0', 'forecast'], axis = 1)"
   ]
  },
  {
   "cell_type": "markdown",
   "id": "934c1d62",
   "metadata": {},
   "source": [
    "#### 3. Defining primitive set"
   ]
  },
  {
   "cell_type": "code",
   "execution_count": 3,
   "id": "93f2d09d",
   "metadata": {},
   "outputs": [],
   "source": [
    "#Second argument = number of variables in problem (this case, 56 vars)\n",
    "pset = gp.PrimitiveSet(\"MAIN\", 56)\n",
    "#Second argument = arity\n",
    "pset.addPrimitive(operations.add, 2)\n",
    "pset.addPrimitive(operations.sub, 2)\n",
    "pset.addPrimitive(operations.mul, 2)\n",
    "pset.addPrimitive(operations.protectedDiv, 2)\n",
    "pset.addPrimitive(operations.cos, 1)\n",
    "pset.addPrimitive(operations.sin, 1)\n",
    "pset.addPrimitive(operations.tan, 1)\n",
    "pset.addPrimitive(operations.asin, 1)\n",
    "pset.addPrimitive(operations.acos, 1)\n",
    "pset.addPrimitive(operations.atan, 1)\n",
    "pset.addPrimitive(operations.log10, 1)\n",
    "pset.addPrimitive(operations.log, 1)\n",
    "pset.addPrimitive(operations.sqrt, 1)\n",
    "pset.addPrimitive(operations.exp, 1)\n",
    "pset.addPrimitive(operations.pow, 2)\n",
    "\n",
    "pset.addEphemeralConstant(\"rand101\", lambda: random.randint(-1000,1000))\n",
    "pset.addEphemeralConstant(\"pi\", lambda: math.pi)\n",
    "pset.addEphemeralConstant(\"e\", lambda: math.e)\n",
    "\n",
    "#Renaming arguments\n",
    "renArg = dict(zip(pset.arguments, list(slow_wind.columns)))\n",
    "pset.renameArguments(**renArg)"
   ]
  },
  {
   "cell_type": "markdown",
   "id": "961783cd",
   "metadata": {},
   "source": [
    "#### 4. Functions definition"
   ]
  },
  {
   "cell_type": "code",
   "execution_count": 4,
   "id": "f07b3c4f",
   "metadata": {},
   "outputs": [],
   "source": [
    "def avgAbsError(individual, dataframe, forecast):\n",
    "    \n",
    "    # Transform the tree expression in a callable function\n",
    "    func = toolbox.compile(expr=individual)\n",
    "    \n",
    "    # Evaluate the mean squared error between the expression and the real function\n",
    "    AvgAbsError = [abs(func(*dataframe.iloc[nrow]) - forecast[nrow]) for nrow in random.sample(range(len(dataframe)), int(len(dataframe)/2))]\n",
    "\n",
    "    return sum(AvgAbsError) / len(AvgAbsError)"
   ]
  },
  {
   "cell_type": "code",
   "execution_count": 5,
   "id": "b9f8e007",
   "metadata": {},
   "outputs": [],
   "source": [
    "def evaluate(individual, dataframe,forecast): \n",
    "    return avgAbsError(individual, dataframe, forecast), len(individual)"
   ]
  },
  {
   "cell_type": "code",
   "execution_count": 6,
   "id": "e36561bd",
   "metadata": {},
   "outputs": [],
   "source": [
    "def EquationSimplifier(ind): \n",
    "    locals = {\n",
    "        'sub': operations.sub,\n",
    "        'protectedDiv': operations.protectedDiv,\n",
    "        'mul': operations.mul,\n",
    "        'add': operations.add,\n",
    "        'pow': operations.pow\n",
    "    }\n",
    "    expr = sympify(ind , locals=locals)\n",
    "    return expr"
   ]
  },
  {
   "cell_type": "code",
   "execution_count": 7,
   "id": "7eb5dbac",
   "metadata": {},
   "outputs": [],
   "source": [
    "def StatsToCsv(StatsDF):\n",
    "    replacement = [' ',':','.']\n",
    "    date=datetime.datetime.now()\n",
    "    for sign in replacement:\n",
    "        date = str(date).replace(str(sign), '_') \n",
    "    StatsDF.to_csv(f'~\\Documents\\TFM\\\\venv_TFM\\Stats\\MultiStats\\slow\\Stats{date}.csv')"
   ]
  },
  {
   "cell_type": "code",
   "execution_count": 8,
   "id": "4160c1a7",
   "metadata": {},
   "outputs": [],
   "source": [
    "def sizeAvgMax(stats): \n",
    "    fig, ax1 = plt.figure(), plt.axes()\n",
    "    ax1.plot(stats['size_avg'], color = 'g', linestyle = '-', label = 'size_avg')\n",
    "    ax1.plot(stats['size_max'], color = 'r', linestyle = '-', label = 'size_max')\n",
    "    ax1.set_ylabel('Number of nodes')\n",
    "    ax1.set_xlabel('Generations')\n",
    "    ax1.set_title('Size evolution')\n",
    "    plt.legend()\n",
    "    plt.savefig(r'C:\\Users\\Christian Mariscal\\Documents\\TFM\\venv_TFM\\results\\slow\\multi\\graphs\\sizeAvgMax.png', facecolor='white')\n",
    "    plt.show()"
   ]
  },
  {
   "cell_type": "code",
   "execution_count": 9,
   "id": "239d44b4",
   "metadata": {},
   "outputs": [],
   "source": [
    "def plotPareto(hof): \n",
    "    sacarAAE = lambda x: x.fitness.values[0]\n",
    "    sacarSIZE = lambda x: x.fitness.values[1]\n",
    "    fig, ax = plt.figure(), plt.axes()\n",
    "    ax.plot([sacarSIZE(ind) for ind in hof.items],[sacarAAE(ind) for ind in hof.items], linestyle = 'none', marker = 'o')\n",
    "    ax.set_ylabel('Absolute average error')\n",
    "    ax.set_xlabel('Size')\n",
    "    ax.set_title('Pareto front')    \n",
    "    plt.savefig(r'C:\\Users\\Christian Mariscal\\Documents\\TFM\\venv_TFM\\results\\slow\\multi\\graphs\\ParetoFront.png', facecolor='white')\n",
    "    plt.show()"
   ]
  },
  {
   "cell_type": "code",
   "execution_count": 10,
   "id": "c81fa8de",
   "metadata": {},
   "outputs": [],
   "source": [
    "def depthMaxAvg(stats, heightLimit = None):\n",
    "    fig, ax1 = plt.figure(), plt.axes()\n",
    "    ax1.plot(stats['height_max'], color = 'r', linestyle = '-', label = 'depth_max')\n",
    "    ax1.plot(stats['height_avg'], color = 'g', linestyle = '-', label = 'depth_avg')\n",
    "    ax1.plot([heightLimit for i in range(len(stats))], color = 'y', linestyle = '-', linewidth = 3, label = 'Depth limit')\n",
    "    ax1.set_ylabel('Tree depth')\n",
    "    ax1.set_xlabel('Generations')\n",
    "    ax1.set_title('Tree depth evolution')\n",
    "    plt.legend()\n",
    "    plt.savefig(r'C:\\Users\\Christian Mariscal\\Documents\\TFM\\venv_TFM\\results\\slow\\multi\\graphs\\depthMaxAvg.png', facecolor='white')\n",
    "    plt.show()"
   ]
  },
  {
   "cell_type": "code",
   "execution_count": 11,
   "id": "cbb69137",
   "metadata": {},
   "outputs": [],
   "source": [
    "def plotErrorDist(equation, pset, baseline, data, forecast):\n",
    "    '''\n",
    "    Distribution plot of an individual's errors. \n",
    "    \n",
    "    :param equation(str): Equation based on pset.context operations\n",
    "    :param pset(deap.gp.PrimitiveSet): Primitive set\n",
    "    :param baseline(float): Algorithm baseline.\n",
    "    :param data: Pandas dataframe containing solar wind data\n",
    "    :param forecast: Pandas dataframe containing forecast to compare to.\n",
    "    \n",
    "    '''\n",
    "    replacement = [' ',':','.']\n",
    "    date=datetime.datetime.now()\n",
    "    date = time.time()\n",
    "    for sign in replacement:\n",
    "        date = str(date).replace(str(sign), '_') \n",
    "    \n",
    "    func = gp.compile(expr = equation, pset = pset)\n",
    "    predicted = [func(*data.iloc[i]) for i in range(len(data))]\n",
    "    forec = [forecast.iloc[i] for i in range(len(data))]\n",
    "    errors = [abs(i-j) for i,j in zip(predicted, forec)]\n",
    "    errors = pd.DataFrame(errors, columns=['errors'])\n",
    "    bad_error = errors.loc[errors['errors']>baseline]\n",
    "    good_error = errors.loc[errors['errors']<baseline]\n",
    "    plt.hist(bad_error, color = 'r', label = f'Error > baseline: {len(bad_error)}', bins= int((bad_error.max()-bad_error.min())/5))\n",
    "    plt.hist(good_error, color = 'g', label = f'Error < baseline: {len(good_error)}', bins= int((good_error.max()-good_error.min())/5))\n",
    "    plt.legend()\n",
    "    plt.title('Distribution plot of errors')\n",
    "    plt.ylabel('Frequency')\n",
    "    plt.xlabel('Average absolute error')\n",
    "    plt.savefig(r'C:\\Users\\Christian Mariscal\\Documents\\TFM\\venv_TFM\\results\\slow\\multi\\graphs\\errorDist.png', facecolor='white')\n",
    "    plt.show()"
   ]
  },
  {
   "cell_type": "code",
   "execution_count": 12,
   "id": "967ebf09",
   "metadata": {},
   "outputs": [],
   "source": [
    "def absErrMinAvg(stats): \n",
    "    fig, ax1 = plt.figure(), plt.axes()\n",
    "    ax1.plot(stats['AAE_min'], color = 'g', linestyle = '-', label = 'Min abs err')\n",
    "    #ax1.plot(stats['AAE_avg'], color = 'r', linestyle = '-', label = 'Avg abs err')\n",
    "    ax1.set_ylabel('Absolute error')\n",
    "    ax1.set_xlabel('Generations')\n",
    "    ax1.set_title('Absolute error evolution')\n",
    "    plt.legend()\n",
    "    plt.savefig(r'C:\\Users\\Christian Mariscal\\Documents\\TFM\\venv_TFM\\results\\slow\\multi\\graphs\\absErrMinAvg.png', facecolor='white')\n",
    "    plt.show()"
   ]
  },
  {
   "cell_type": "code",
   "execution_count": 13,
   "id": "03b29dcd",
   "metadata": {},
   "outputs": [],
   "source": [
    "def eaSimpleOrNSGAII(population, toolbox, cxpb, mutpb, ngen, stats=None,\n",
    "             halloffame=None, verbose=__debug__, plot= True, multiThread = False, multiProcess = False):\n",
    "    \n",
    "    print(f'--------Starting algorithm of {len(population)} individuals and {ngen} generations--------')\n",
    "    start = time.time()\n",
    "    logbook = tools.Logbook()\n",
    "    logbook.header = ['gen', 'nevals'] + (stats.fields if stats else [])\n",
    "    \n",
    "    # Evaluate the individuals with an invalid fitness\n",
    "    invalid_ind = [ind for ind in population if not ind.fitness.valid]\n",
    "    \n",
    "    if multiThread == True: \n",
    "        print(f'---------Entering multithreading--------')\n",
    "        with ThreadPoolExecutor() as executor:\n",
    "            futures = []\n",
    "            for ind in invalid_ind: \n",
    "                future = executor.submit(toolbox.evaluate, ind)\n",
    "                futures.append(future)\n",
    "            fitnesses = [future.result() for future in futures]\n",
    "    elif multiProcess==True:\n",
    "        print('--------Entering multiprocessing--------')\n",
    "        fitnesses = toolbox.map(toolbox.evaluate, invalid_ind)\n",
    "    else: \n",
    "        print('--------Entering without accelerators activated--------')\n",
    "        fitnesses = toolbox.map(toolbox.evaluate, invalid_ind)\n",
    "        \n",
    "    for ind, fit in zip(invalid_ind, fitnesses):\n",
    "        ind.fitness.values = fit   \n",
    "        \n",
    "    if plot == True:\n",
    "            fig, ax = plt.figure(), plt.axes()\n",
    "            ax.set_xlabel('Size')\n",
    "            ax.set_ylabel('AAE')\n",
    "            ax.set_ylim([0,100])\n",
    "            ax.set_title('Pareto front evolution')\n",
    "            \n",
    "    if halloffame is not None:\n",
    "        halloffame.update(population)\n",
    "    else: \n",
    "        hof_size=0\n",
    "    record = stats.compile(population) if stats else {}\n",
    "    logbook.record(gen=0, nevals=len(invalid_ind), **record)\n",
    "        \n",
    "    # This is just to assign the crowding distance to the individuals\n",
    "    # no actual selection is done\n",
    "    population, nonDominatedMSE, nonDominatedSize, pareto_fronts  = toolbox.select(population, len(population))\n",
    "    \n",
    "    # Begin the generational process\n",
    "    for gen in tqdm(range(1, ngen + 1)):\n",
    "        \n",
    "        #Apply selection mechanism based on dominance and crowding distance\n",
    "        offspring = tools.selTournamentDCD(population, len(population))\n",
    "        offspring = [toolbox.clone(ind) for ind in offspring]\n",
    "        \n",
    "        offspring = algorithms.varOr(offspring, toolbox, len(offspring), cxpb, mutpb)\n",
    "      \n",
    "        # Evaluate the individuals with an invalid fitness\n",
    "        invalid_ind = [ind for ind in offspring if not ind.fitness.valid]\n",
    "        \n",
    "        if multiThread == True: \n",
    "            print(f'--------Entering generation {gen}--------')\n",
    "            with ThreadPoolExecutor() as executor:\n",
    "                futures = []\n",
    "                for ind in invalid_ind: \n",
    "                    future = executor.submit(toolbox.evaluate, ind)\n",
    "                    futures.append(future)\n",
    "                fitnesses = [future.result() for future in futures]\n",
    "        else: \n",
    "            print(f'--------Entering generation {gen}--------')\n",
    "            fitnesses = list(toolbox.map(toolbox.evaluate, invalid_ind))\n",
    "        \n",
    "        for ind, fit in zip(invalid_ind, fitnesses):\n",
    "            ind.fitness.values = fit\n",
    "\n",
    "        # Update the hall of fame with the generated individuals\n",
    "        if halloffame is not None:\n",
    "            halloffame.update(offspring)\n",
    "\n",
    "        #NSGA II parents selection. Toolbox.select must be set up to NSGA II in main script. \n",
    "        population, nonDominatedMSE, nonDominatedSize, pareto_fronts = toolbox.select(population + offspring, len(population))\n",
    "        \n",
    "#             plt.savefig(f'ParetoFronts/Pareto_Gen{gen}.png')\n",
    "        # Append the current generation statistics to the logbook\n",
    "        record = stats.compile(population) if stats else {}\n",
    "        logbook.record(gen=gen, nevals=len(invalid_ind), **record)\n",
    "        if verbose:\n",
    "            StatisticsDataFrame = (logbook.stream)\n",
    "            \n",
    "        paretoFrontAAE = [ind.fitness.values[0] for ind in hof.items]\n",
    "        paretoFrontSize = [ind.fitness.values[1] for ind in hof.items]\n",
    "        \n",
    "        if plot == True:\n",
    "            ax.plot(paretoFrontSize, paretoFrontAAE, linestyle= 'none', marker = 'o')\n",
    "            plt.show(block=False)\n",
    "            plt.pause(.01)\n",
    "#         print(f'{popSize};{cxpb};{mtpb};{ngen};{maxHeight};{accelerator};{emperor.__str__()};{bestMetric};', file=open(r'C:\\Users\\Christian Mariscal\\Documents\\TFM\\venv_TFM\\results\\slow\\multi\\genStats\\results.txt', 'a'))\n",
    "\n",
    "    end = time.time()\n",
    "    \n",
    "    print(f'--------Algorithm execution took {end - start} s--------')\n",
    "    return population, logbook, halloffame, pareto_fronts, StatisticsDataFrame"
   ]
  },
  {
   "cell_type": "markdown",
   "id": "766fcc72",
   "metadata": {},
   "source": [
    "#### 5. Parameters definition"
   ]
  },
  {
   "cell_type": "code",
   "execution_count": 14,
   "id": "628f9c61",
   "metadata": {
    "scrolled": false
   },
   "outputs": [],
   "source": [
    "#Defining fitness class\n",
    "creator.create(\"FitnessMin\", base.Fitness, weights=(-1,-1))\n",
    "\n",
    "#Defining individuals shape and associating fitness attribute\n",
    "creator.create(\"Individual\", gp.PrimitiveTree, fitness=creator.FitnessMin)\n",
    "\n",
    "#Creating toolbox to register: population creation, evaluation function, selection mecanism\n",
    "#and genetic operators\n",
    "toolbox = base.Toolbox()\n",
    "toolbox.register(\"expr\", gp.genHalfAndHalf, pset=pset, min_=1, max_=2)\n",
    "toolbox.register(\"individual\", tools.initIterate, creator.Individual, toolbox.expr)\n",
    "toolbox.register(\"population\", tools.initRepeat, list, toolbox.individual)\n",
    "toolbox.register(\"compile\", gp.compile, pset=pset)\n",
    "toolbox.register(\"evaluate\", evaluate, dataframe=slow_wind, forecast=forecast)\n",
    "toolbox.register(\"select\", tools.selNSGA2)\n",
    "toolbox.register(\"mate\", gp.cxOnePoint)\n",
    "toolbox.register(\"expr_mut\", gp.genFull, min_=0, max_=2)\n",
    "toolbox.register(\"mutate\", gp.mutUniform, expr=toolbox.expr_mut, pset=pset)\n",
    "maxHeight = 10\n",
    "toolbox.decorate(\"mate\", gp.staticLimit(key=operator.attrgetter(\"height\"), max_value=maxHeight))\n",
    "toolbox.decorate(\"mutate\", gp.staticLimit(key=operator.attrgetter(\"height\"), max_value=maxHeight))"
   ]
  },
  {
   "cell_type": "markdown",
   "id": "6e83c5c2",
   "metadata": {},
   "source": [
    "#### 6. Algorithm initialization"
   ]
  },
  {
   "cell_type": "code",
   "execution_count": 15,
   "id": "55ac9c52",
   "metadata": {
    "scrolled": true
   },
   "outputs": [
    {
     "name": "stdout",
     "output_type": "stream",
     "text": [
      "------Let's select algorithm parameters------\n",
      "Select number of individuals: 152\n",
      "Select crossover probability: .9\n",
      "Select mutation probability: .1\n",
      "Select number of generations: 100\n",
      "Select accelerator: Multithreading(1), multiprocessing(2) or none(3): 1\n",
      "--------Starting algorithm of 152 individuals and 100 generations--------\n",
      "---------Entering multithreading--------\n"
     ]
    },
    {
     "ename": "NameError",
     "evalue": "name 'distance' is not defined",
     "output_type": "error",
     "traceback": [
      "\u001b[1;31m---------------------------------------------------------------------------\u001b[0m",
      "\u001b[1;31mNameError\u001b[0m                                 Traceback (most recent call last)",
      "Input \u001b[1;32mIn [15]\u001b[0m, in \u001b[0;36m<cell line: 1>\u001b[1;34m()\u001b[0m\n\u001b[0;32m     30\u001b[0m mstats\u001b[38;5;241m.\u001b[39mregister(\u001b[38;5;124m\"\u001b[39m\u001b[38;5;124mmin\u001b[39m\u001b[38;5;124m\"\u001b[39m, numpy\u001b[38;5;241m.\u001b[39mmin)\n\u001b[0;32m     31\u001b[0m mstats\u001b[38;5;241m.\u001b[39mregister(\u001b[38;5;124m\"\u001b[39m\u001b[38;5;124mmax\u001b[39m\u001b[38;5;124m\"\u001b[39m, numpy\u001b[38;5;241m.\u001b[39mmax)\n\u001b[1;32m---> 33\u001b[0m pop, log, hof, front, StatisticsDataFrame \u001b[38;5;241m=\u001b[39m \u001b[43meaSimpleOrNSGAII\u001b[49m\u001b[43m(\u001b[49m\u001b[43mpop\u001b[49m\u001b[43m,\u001b[49m\u001b[43m \u001b[49m\u001b[43mtoolbox\u001b[49m\u001b[43m,\u001b[49m\u001b[43m \u001b[49m\u001b[43mcxpb\u001b[49m\u001b[43m,\u001b[49m\u001b[43m \u001b[49m\u001b[43mmtpb\u001b[49m\u001b[43m,\u001b[49m\u001b[43m \u001b[49m\u001b[43mngen\u001b[49m\u001b[43m,\u001b[49m\u001b[43m \u001b[49m\u001b[43mstats\u001b[49m\u001b[38;5;241;43m=\u001b[39;49m\u001b[43mmstats\u001b[49m\u001b[43m,\u001b[49m\n\u001b[0;32m     34\u001b[0m \u001b[43m                               \u001b[49m\u001b[43mhalloffame\u001b[49m\u001b[38;5;241;43m=\u001b[39;49m\u001b[43mhof\u001b[49m\u001b[43m,\u001b[49m\u001b[43m \u001b[49m\u001b[43mverbose\u001b[49m\u001b[38;5;241;43m=\u001b[39;49m\u001b[38;5;28;43;01mTrue\u001b[39;49;00m\u001b[43m,\u001b[49m\u001b[43m \u001b[49m\u001b[43mplot\u001b[49m\u001b[43m \u001b[49m\u001b[38;5;241;43m=\u001b[39;49m\u001b[43m \u001b[49m\u001b[38;5;28;43;01mTrue\u001b[39;49;00m\u001b[43m,\u001b[49m\u001b[43m \u001b[49m\u001b[43mmultiThread\u001b[49m\u001b[43m \u001b[49m\u001b[38;5;241;43m=\u001b[39;49m\u001b[43m \u001b[49m\u001b[43mmultiThread\u001b[49m\u001b[43m,\u001b[49m\u001b[43m \u001b[49m\u001b[43mmultiProcess\u001b[49m\u001b[43m \u001b[49m\u001b[38;5;241;43m=\u001b[39;49m\u001b[43m \u001b[49m\u001b[43mmultiProcess\u001b[49m\u001b[43m)\u001b[49m\n\u001b[0;32m     35\u001b[0m \u001b[38;5;66;03m#Compute best individual metrics\u001b[39;00m\n\u001b[0;32m     36\u001b[0m bestMetric \u001b[38;5;241m=\u001b[39m \u001b[38;5;28mmin\u001b[39m([king\u001b[38;5;241m.\u001b[39mfitness\u001b[38;5;241m.\u001b[39mvalues \u001b[38;5;28;01mfor\u001b[39;00m king \u001b[38;5;129;01min\u001b[39;00m hof\u001b[38;5;241m.\u001b[39mitems])\n",
      "Input \u001b[1;32mIn [13]\u001b[0m, in \u001b[0;36meaSimpleOrNSGAII\u001b[1;34m(population, toolbox, cxpb, mutpb, ngen, stats, halloffame, verbose, plot, multiThread, multiProcess)\u001b[0m\n\u001b[0;32m     42\u001b[0m logbook\u001b[38;5;241m.\u001b[39mrecord(gen\u001b[38;5;241m=\u001b[39m\u001b[38;5;241m0\u001b[39m, nevals\u001b[38;5;241m=\u001b[39m\u001b[38;5;28mlen\u001b[39m(invalid_ind), \u001b[38;5;241m*\u001b[39m\u001b[38;5;241m*\u001b[39mrecord)\n\u001b[0;32m     44\u001b[0m \u001b[38;5;66;03m# This is just to assign the crowding distance to the individuals\u001b[39;00m\n\u001b[0;32m     45\u001b[0m \u001b[38;5;66;03m# no actual selection is done\u001b[39;00m\n\u001b[1;32m---> 46\u001b[0m population, nonDominatedMSE, nonDominatedSize, pareto_fronts  \u001b[38;5;241m=\u001b[39m \u001b[43mtoolbox\u001b[49m\u001b[38;5;241;43m.\u001b[39;49m\u001b[43mselect\u001b[49m\u001b[43m(\u001b[49m\u001b[43mpopulation\u001b[49m\u001b[43m,\u001b[49m\u001b[43m \u001b[49m\u001b[38;5;28;43mlen\u001b[39;49m\u001b[43m(\u001b[49m\u001b[43mpopulation\u001b[49m\u001b[43m)\u001b[49m\u001b[43m)\u001b[49m\n\u001b[0;32m     48\u001b[0m \u001b[38;5;66;03m# Begin the generational process\u001b[39;00m\n\u001b[0;32m     49\u001b[0m \u001b[38;5;28;01mfor\u001b[39;00m gen \u001b[38;5;129;01min\u001b[39;00m tqdm(\u001b[38;5;28mrange\u001b[39m(\u001b[38;5;241m1\u001b[39m, ngen \u001b[38;5;241m+\u001b[39m \u001b[38;5;241m1\u001b[39m)):\n\u001b[0;32m     50\u001b[0m     \n\u001b[0;32m     51\u001b[0m     \u001b[38;5;66;03m#Apply selection mechanism based on dominance and crowding distance\u001b[39;00m\n",
      "File \u001b[1;32m~\\Documents\\TFM\\venv_TFM\\lib\\site-packages\\deap\\tools\\emo.py:49\u001b[0m, in \u001b[0;36mselNSGA2\u001b[1;34m(individuals, k, nd)\u001b[0m\n\u001b[0;32m     47\u001b[0m     \u001b[38;5;28;01mfor\u001b[39;00m ind \u001b[38;5;129;01min\u001b[39;00m front:\n\u001b[0;32m     48\u001b[0m         new_pareto\u001b[38;5;241m.\u001b[39mappend(ind)\n\u001b[1;32m---> 49\u001b[0m \u001b[43massignCrowdingDist\u001b[49m\u001b[43m(\u001b[49m\u001b[43mnew_pareto\u001b[49m\u001b[43m)\u001b[49m\n\u001b[0;32m     52\u001b[0m chosen \u001b[38;5;241m=\u001b[39m \u001b[38;5;28mlist\u001b[39m(chain(\u001b[38;5;241m*\u001b[39mpareto_fronts[:\u001b[38;5;241m-\u001b[39m\u001b[38;5;241m1\u001b[39m]))\n\u001b[0;32m     53\u001b[0m k \u001b[38;5;241m=\u001b[39m k \u001b[38;5;241m-\u001b[39m \u001b[38;5;28mlen\u001b[39m(chosen)\n",
      "File \u001b[1;32m~\\Documents\\TFM\\venv_TFM\\lib\\site-packages\\deap\\tools\\emo.py:155\u001b[0m, in \u001b[0;36massignCrowdingDist\u001b[1;34m(individuals)\u001b[0m\n\u001b[0;32m    153\u001b[0m     \u001b[38;5;28;01mfor\u001b[39;00m prev, cur, \u001b[38;5;28mnext\u001b[39m \u001b[38;5;129;01min\u001b[39;00m \u001b[38;5;28mzip\u001b[39m(crowd[:\u001b[38;5;241m-\u001b[39m\u001b[38;5;241m2\u001b[39m], crowd[\u001b[38;5;241m1\u001b[39m:\u001b[38;5;241m-\u001b[39m\u001b[38;5;241m1\u001b[39m], crowd[\u001b[38;5;241m2\u001b[39m:]):\n\u001b[0;32m    154\u001b[0m         distances[cur[\u001b[38;5;241m1\u001b[39m]] \u001b[38;5;241m+\u001b[39m\u001b[38;5;241m=\u001b[39m \u001b[38;5;28mabs\u001b[39m(\u001b[38;5;28mnext\u001b[39m[\u001b[38;5;241m0\u001b[39m][i] \u001b[38;5;241m-\u001b[39m prev[\u001b[38;5;241m0\u001b[39m][i]) \u001b[38;5;66;03m#/ abs(norm)\u001b[39;00m\n\u001b[1;32m--> 155\u001b[0m     \u001b[43mdistance\u001b[49m[\u001b[38;5;241m0\u001b[39m] \u001b[38;5;241m+\u001b[39m\u001b[38;5;241m=\u001b[39m \u001b[38;5;28mabs\u001b[39m(crowd[\u001b[38;5;241m1\u001b[39m][\u001b[38;5;241m0\u001b[39m][i]\u001b[38;5;241m-\u001b[39mcrowd[\u001b[38;5;241m0\u001b[39m][\u001b[38;5;241m0\u001b[39m][i]) \u001b[38;5;66;03m#mine\u001b[39;00m\n\u001b[0;32m    156\u001b[0m     distance[\u001b[38;5;241m-\u001b[39m\u001b[38;5;241m1\u001b[39m] \u001b[38;5;241m+\u001b[39m\u001b[38;5;241m=\u001b[39m \u001b[38;5;28mabs\u001b[39m(crowd[\u001b[38;5;241m-\u001b[39m\u001b[38;5;241m1\u001b[39m][\u001b[38;5;241m0\u001b[39m][i]\u001b[38;5;241m-\u001b[39mcrowd[\u001b[38;5;241m-\u001b[39m\u001b[38;5;241m1\u001b[39m][\u001b[38;5;241m0\u001b[39m][i])\u001b[38;5;66;03m#mine\u001b[39;00m\n\u001b[0;32m    157\u001b[0m \u001b[38;5;28;01mfor\u001b[39;00m i, dist \u001b[38;5;129;01min\u001b[39;00m \u001b[38;5;28menumerate\u001b[39m(distances):\n",
      "\u001b[1;31mNameError\u001b[0m: name 'distance' is not defined"
     ]
    },
    {
     "data": {
      "image/png": "[encoded data removed]",
      "text/plain": [
       "<Figure size 432x288 with 1 Axes>"
      ]
     },
     "metadata": {
      "needs_background": "light"
     },
     "output_type": "display_data"
    }
   ],
   "source": [
    "if __name__ == \"__main__\": \n",
    "    \n",
    "    random.seed(318)\n",
    "    CPUs = None\n",
    "    multiProcess = False\n",
    "    multiThread = False\n",
    "    \n",
    "    print('------Let\\'s select algorithm parameters------')\n",
    "    popSize=int(input('Select number of individuals: '))\n",
    "    pop = toolbox.population(n=popSize)\n",
    "    cxpb = float(input('Select crossover probability: '))\n",
    "    mtpb = float(input('Select mutation probability: '))\n",
    "    ngen = int(input('Select number of generations: '))\n",
    "    accelerator = int(input('Select accelerator: Multithreading(1), multiprocessing(2) or none(3): '))\n",
    "    if accelerator == 1: \n",
    "        multiThread = True\n",
    "    elif accelerator == 2:\n",
    "        multiProcess = True\n",
    "        CPUs = int(input(f'Select number of cpu\\'s for multiprocessing (CPUs available = {multiprocessing.cpu_count()}): '))\n",
    "        pool = multiprocessing.Pool(CPUs)\n",
    "        toolbox.register(\"map\", pool.map)\n",
    "        \n",
    "    hof = tools.ParetoFront()\n",
    "    stats_fit_AAE = tools.Statistics(lambda ind: ind.fitness.values[0])\n",
    "    stats_size = tools.Statistics(len)\n",
    "    stats_height = tools.Statistics(lambda ind: ind.height)\n",
    "    mstats = tools.MultiStatistics(AAE=stats_fit_AAE, size=stats_size, height=stats_height)\n",
    "    mstats.register(\"avg\", numpy.mean)\n",
    "    mstats.register(\"std\", numpy.std)\n",
    "    mstats.register(\"min\", numpy.min)\n",
    "    mstats.register(\"max\", numpy.max)\n",
    "    \n",
    "    pop, log, hof, front, StatisticsDataFrame = eaSimpleOrNSGAII(pop, toolbox, cxpb, mtpb, ngen, stats=mstats,\n",
    "                                   halloffame=hof, verbose=True, plot = True, multiThread = multiThread, multiProcess = multiProcess)\n",
    "    #Compute best individual metrics\n",
    "    bestMetric = min([king.fitness.values for king in hof.items])\n",
    "    print(f\"Metric of best individual is: {bestMetric}\")\n",
    "    \n",
    "    #Extracting simpler equation\n",
    "    for king in hof.items: \n",
    "        if king.fitness.values == bestMetric: \n",
    "            emperor = king\n",
    "    SimplerExpr = EquationSimplifier(emperor.__str__())\n",
    "    print(f'--------Original equation--------: {emperor.__str__()}')\n",
    "    print(f'--------Simplified equation--------: {SimplerExpr}')\n",
    "    \n",
    "    #Save stats to csv\n",
    "    StatsToCsv(StatisticsDataFrame)"
   ]
  },
  {
   "cell_type": "markdown",
   "id": "7565e213",
   "metadata": {},
   "source": [
    "#### 7. Graphs"
   ]
  },
  {
   "cell_type": "code",
   "execution_count": null,
   "id": "994d4bf0",
   "metadata": {},
   "outputs": [],
   "source": [
    "if __name__ == '__main__': \n",
    "    baseline = 24.92852089\n",
    "    plotPareto(hof)\n",
    "    plotErrorDist(emperor.__str__(), pset, baseline, slow_wind, forecast)\n",
    "    sizeAvgMax(StatisticsDataFrame)\n",
    "    depthMaxAvg(StatisticsDataFrame, maxHeight)\n",
    "    absErrMinAvg(StatisticsDataFrame)"
   ]
  }
 ],
 "metadata": {
  "kernelspec": {
   "display_name": "Python 3 (ipykernel)",
   "language": "python",
   "name": "python3"
  },
  "language_info": {
   "codemirror_mode": {
    "name": "ipython",
    "version": 3
   },
   "file_extension": ".py",
   "mimetype": "text/x-python",
   "name": "python",
   "nbconvert_exporter": "python",
   "pygments_lexer": "ipython3",
   "version": "3.10.5"
  }
 },
 "nbformat": 4,
 "nbformat_minor": 5
}
