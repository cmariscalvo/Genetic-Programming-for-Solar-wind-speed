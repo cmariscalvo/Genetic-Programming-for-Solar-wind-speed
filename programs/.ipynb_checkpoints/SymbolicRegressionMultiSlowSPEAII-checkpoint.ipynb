{
 "cells": [
  {
   "cell_type": "markdown",
   "id": "fb14774a",
   "metadata": {},
   "source": [
    "# Symbolic regression multiobjective for slow solar wind"
   ]
  },
  {
   "cell_type": "markdown",
   "id": "1963ca1d",
   "metadata": {},
   "source": [
    "#### 1. Libraries importation"
   ]
  },
  {
   "cell_type": "code",
   "execution_count": null,
   "id": "130ac64e",
   "metadata": {},
   "outputs": [],
   "source": [
    "import math\n",
    "from tqdm import tqdm\n",
    "import random\n",
    "import csv\n",
    "import datetime\n",
    "import time\n",
    "import numpy\n",
    "import operator\n",
    "import matplotlib.pyplot as plt\n",
    "import multiprocessing\n",
    "from concurrent.futures import ProcessPoolExecutor, ThreadPoolExecutor\n",
    "import pandas as pd\n",
    "from deap import algorithms, base, creator , tools, gp\n",
    "from sympy import sympify, sin, cos, simplify\n",
    "import operations\n",
    "import evaluators"
   ]
  },
  {
   "cell_type": "markdown",
   "id": "46bc9e6f",
   "metadata": {},
   "source": [
    "#### 2. CSV importation"
   ]
  },
  {
   "cell_type": "code",
   "execution_count": null,
   "id": "8480873c",
   "metadata": {},
   "outputs": [],
   "source": [
    "slow_wind = pd.read_csv(r'C:\\Users\\Christian Mariscal\\Documents\\TFM\\venv_TFM\\gp_data\\slow_model_io.csv', delimiter = ',')\n",
    "forecast = slow_wind['forecast']\n",
    "slow_wind = slow_wind.drop(['Unnamed: 0', 'forecast'], axis = 1)"
   ]
  },
  {
   "cell_type": "markdown",
   "id": "934c1d62",
   "metadata": {},
   "source": [
    "#### 3. Defining primitive set"
   ]
  },
  {
   "cell_type": "code",
   "execution_count": null,
   "id": "93f2d09d",
   "metadata": {},
   "outputs": [],
   "source": [
    "#Second argument = number of variables in problem (this case, 56 vars)\n",
    "pset = gp.PrimitiveSet(\"MAIN\", 56)\n",
    "#Second argument = arity\n",
    "pset.addPrimitive(operations.add, 2)\n",
    "pset.addPrimitive(operations.sub, 2)\n",
    "pset.addPrimitive(operations.mul, 2)\n",
    "pset.addPrimitive(operations.protectedDiv, 2)\n",
    "pset.addPrimitive(operations.cos, 1)\n",
    "pset.addPrimitive(operations.sin, 1)\n",
    "pset.addPrimitive(operations.tan, 1)\n",
    "pset.addPrimitive(operations.asin, 1)\n",
    "pset.addPrimitive(operations.acos, 1)\n",
    "pset.addPrimitive(operations.atan, 1)\n",
    "pset.addPrimitive(operations.log10, 1)\n",
    "pset.addPrimitive(operations.log, 1)\n",
    "pset.addPrimitive(operations.sqrt, 1)\n",
    "pset.addPrimitive(operations.exp, 1)\n",
    "pset.addPrimitive(operations.pow, 2)\n",
    "\n",
    "pset.addEphemeralConstant(\"rand101\", lambda: random.randint(-1000,1000))\n",
    "pset.addEphemeralConstant(\"pi\", lambda: math.pi)\n",
    "pset.addEphemeralConstant(\"e\", lambda: math.e)\n",
    "\n",
    "#Renaming arguments\n",
    "renArg = dict(zip(pset.arguments, list(slow_wind.columns)))\n",
    "pset.renameArguments(**renArg)"
   ]
  },
  {
   "cell_type": "markdown",
   "id": "961783cd",
   "metadata": {},
   "source": [
    "#### 4. Functions definition"
   ]
  },
  {
   "cell_type": "code",
   "execution_count": null,
   "id": "f07b3c4f",
   "metadata": {},
   "outputs": [],
   "source": [
    "def avgAbsError(individual, dataframe, forecast):\n",
    "    \n",
    "    # Transform the tree expression in a callable function\n",
    "    func = toolbox.compile(expr=individual)\n",
    "    \n",
    "    # Evaluate the mean squared error between the expression and the real function\n",
    "    AvgAbsError = [abs(func(*dataframe.iloc[nrow]) - forecast[nrow]) for nrow in random.sample(range(len(dataframe)), int(len(dataframe)/2))]\n",
    "\n",
    "    return sum(AvgAbsError) / len(AvgAbsError)"
   ]
  },
  {
   "cell_type": "code",
   "execution_count": null,
   "id": "e45b305a",
   "metadata": {},
   "outputs": [],
   "source": [
    "def evaluate(individual, dataframe,forecast): \n",
    "    return avgAbsError(individual, dataframe, forecast), len(individual)"
   ]
  },
  {
   "cell_type": "code",
   "execution_count": null,
   "id": "e36561bd",
   "metadata": {},
   "outputs": [],
   "source": [
    "def EquationSimplifier(ind): \n",
    "    locals = {\n",
    "        'sub': operations.sub,\n",
    "        'protectedDiv': operations.protectedDiv,\n",
    "        'mul': operations.mul,\n",
    "        'add': operations.add,\n",
    "        'pow': operations.pow\n",
    "    }\n",
    "    expr = sympify(ind , locals=locals)\n",
    "    return expr"
   ]
  },
  {
   "cell_type": "code",
   "execution_count": null,
   "id": "7eb5dbac",
   "metadata": {},
   "outputs": [],
   "source": [
    "def StatsToCsv(StatsDF):\n",
    "    replacement = [' ',':','.']\n",
    "    date=datetime.datetime.now()\n",
    "    for sign in replacement:\n",
    "        date = str(date).replace(str(sign), '_') \n",
    "    StatsDF.to_csv(f'~\\Documents\\TFM\\\\venv_TFM\\Stats\\MultiStats\\slow\\SPEA_II\\Stats{date}.csv')"
   ]
  },
  {
   "cell_type": "code",
   "execution_count": null,
   "id": "4160c1a7",
   "metadata": {},
   "outputs": [],
   "source": [
    "def sizeAvgMax(stats): \n",
    "    fig, ax1 = plt.figure(), plt.axes()\n",
    "    ax1.plot(stats['size_avg'], color = 'g', linestyle = '-', label = 'size_avg')\n",
    "    ax1.plot(stats['size_max'], color = 'r', linestyle = '-', label = 'size_max')\n",
    "    ax1.set_ylabel('Number of nodes')\n",
    "    ax1.set_xlabel('Generations')\n",
    "    ax1.set_title('Size evolution')\n",
    "    plt.legend()\n",
    "    plt.savefig(r'C:\\Users\\Christian Mariscal\\Documents\\TFM\\venv_TFM\\results\\slow\\multi\\SPEA_II\\graphs\\sizeAvgMax.png', facecolor='white')\n",
    "    plt.show()"
   ]
  },
  {
   "cell_type": "code",
   "execution_count": null,
   "id": "bb3a8d79",
   "metadata": {},
   "outputs": [],
   "source": [
    "def plotPareto(hof): \n",
    "    sacarAAE = lambda x: x.fitness.values[0]\n",
    "    sacarSIZE = lambda x: x.fitness.values[1]\n",
    "    fig, ax = plt.figure(), plt.axes()\n",
    "    ax.plot([sacarSIZE(ind) for ind in hof.items],[sacarAAE(ind) for ind in hof.items], linestyle = 'none', marker = 'o')\n",
    "    ax.set_ylabel('Absolute average error')\n",
    "    ax.set_xlabel('Size')\n",
    "    ax.set_title('Pareto front')    \n",
    "    plt.savefig(r'C:\\Users\\Christian Mariscal\\Documents\\TFM\\venv_TFM\\results\\slow\\multi\\SPEA_II\\graphs\\ParetoFront.png', facecolor='white')\n",
    "    plt.show()"
   ]
  },
  {
   "cell_type": "code",
   "execution_count": null,
   "id": "c81fa8de",
   "metadata": {},
   "outputs": [],
   "source": [
    "def depthMaxAvg(stats, heightLimit = None):\n",
    "    fig, ax1 = plt.figure(), plt.axes()\n",
    "    ax1.plot(stats['height_max'], color = 'r', linestyle = '-', label = 'depth_max')\n",
    "    ax1.plot(stats['height_avg'], color = 'g', linestyle = '-', label = 'depth_avg')\n",
    "    ax1.plot([heightLimit for i in range(len(stats))], color = 'y', linestyle = '-', linewidth = 3, label = 'Depth limit')\n",
    "    ax1.set_ylabel('Tree depth')\n",
    "    ax1.set_xlabel('Generations')\n",
    "    ax1.set_title('Tree depth evolution')\n",
    "    plt.legend()\n",
    "    plt.savefig(r'C:\\Users\\Christian Mariscal\\Documents\\TFM\\venv_TFM\\results\\slow\\multi\\SPEA_II\\graphs\\depthMaxAvg.png', facecolor='white')\n",
    "    plt.show()"
   ]
  },
  {
   "cell_type": "code",
   "execution_count": null,
   "id": "cbb69137",
   "metadata": {},
   "outputs": [],
   "source": [
    "def plotErrorDist(equation, pset, baseline, data, forecast):\n",
    "    '''\n",
    "    Distribution plot of an individual's errors. \n",
    "    \n",
    "    :param equation(str): Equation based on pset.context operations\n",
    "    :param pset(deap.gp.PrimitiveSet): Primitive set\n",
    "    :param baseline(float): Algorithm baseline.\n",
    "    :param data: Pandas dataframe containing solar wind data\n",
    "    :param forecast: Pandas dataframe containing forecast to compare to.\n",
    "    \n",
    "    '''\n",
    "    replacement = [' ',':','.']\n",
    "    date=datetime.datetime.now()\n",
    "    date = time.time()\n",
    "    for sign in replacement:\n",
    "        date = str(date).replace(str(sign), '_') \n",
    "    \n",
    "    func = gp.compile(expr = equation, pset = pset)\n",
    "    predicted = [func(*data.iloc[i]) for i in range(len(data))]\n",
    "    forec = [forecast.iloc[i] for i in range(len(data))]\n",
    "    errors = [abs(i-j) for i,j in zip(predicted, forec)]\n",
    "    errors = pd.DataFrame(errors, columns=['errors'])\n",
    "    bad_error = errors.loc[errors['errors']>baseline]\n",
    "    good_error = errors.loc[errors['errors']<baseline]\n",
    "    plt.hist(bad_error, color = 'r', label = f'Error > baseline: {len(bad_error)}', bins= int((bad_error.max()-bad_error.min())/5))\n",
    "    plt.hist(good_error, color = 'g', label = f'Error < baseline: {len(good_error)}', bins= int((good_error.max()-good_error.min())/5))\n",
    "    plt.legend()\n",
    "    plt.title('Distribution plot of errors')\n",
    "    plt.ylabel('Frequency')\n",
    "    plt.xlabel('Average absolute error')\n",
    "    plt.savefig(r'C:\\Users\\Christian Mariscal\\Documents\\TFM\\venv_TFM\\results\\slow\\multi\\SPEA_II\\graphs\\errorDist.png', facecolor='white')\n",
    "    plt.show()"
   ]
  },
  {
   "cell_type": "code",
   "execution_count": null,
   "id": "967ebf09",
   "metadata": {},
   "outputs": [],
   "source": [
    "def absErrMinAvg(stats): \n",
    "    fig, ax1 = plt.figure(), plt.axes()\n",
    "    ax1.plot(stats['AAE_min'], color = 'g', linestyle = '-', label = 'Min abs err')\n",
    "    #ax1.plot(stats['AAE_avg'], color = 'r', linestyle = '-', label = 'Avg abs err')\n",
    "    ax1.set_ylabel('Absolute error')\n",
    "    ax1.set_xlabel('Generations')\n",
    "    ax1.set_title('Absolute error evolution')\n",
    "    plt.legend()\n",
    "    plt.savefig(r'C:\\Users\\Christian Mariscal\\Documents\\TFM\\venv_TFM\\results\\slow\\multi\\SPEA_II\\graphs\\absErrMinAvg.png', facecolor='white')\n",
    "    plt.show()"
   ]
  },
  {
   "cell_type": "code",
   "execution_count": null,
   "id": "6d2a43a5",
   "metadata": {},
   "outputs": [],
   "source": [
    "def eaSimpleOrSPEAII(population, toolbox, cxpb, mutpb, ngen, stats=None,\n",
    "             halloffame=None, verbose=__debug__, plot= True, multiThread = False, multiProcess = False):\n",
    "    \n",
    "    print(f'--------Starting algorithm of {len(population)} individuals and {ngen} generations--------')\n",
    "    start = time.time()\n",
    "    logbook = tools.Logbook()\n",
    "    logbook.header = ['gen', 'nevals'] + (stats.fields if stats else [])\n",
    "    \n",
    "    # Evaluate the individuals with an invalid fitness\n",
    "    invalid_ind = [ind for ind in population if not ind.fitness.valid]\n",
    "    \n",
    "    if multiThread == True: \n",
    "        print(f'---------Entering multithreading--------')\n",
    "        with ThreadPoolExecutor() as executor:\n",
    "            futures = []\n",
    "            for ind in invalid_ind: \n",
    "                future = executor.submit(toolbox.evaluate, ind)\n",
    "                futures.append(future)\n",
    "            fitnesses = [future.result() for future in futures]\n",
    "    elif multiProcess==True:\n",
    "        print('--------Entering multiprocessing--------')\n",
    "        fitnesses = toolbox.map(toolbox.evaluate, invalid_ind)\n",
    "    else: \n",
    "        print('--------Entering without accelerators activated--------')\n",
    "        fitnesses = toolbox.map(toolbox.evaluate, invalid_ind)\n",
    "        \n",
    "    for ind, fit in zip(invalid_ind, fitnesses):\n",
    "        ind.fitness.values = fit   \n",
    "        \n",
    "    if plot == True:\n",
    "            fig, ax = plt.figure(), plt.axes()\n",
    "            ax.set_xlabel('Size')\n",
    "            ax.set_ylabel('AAE')\n",
    "            ax.set_ylim([0,100])\n",
    "            ax.set_title('Pareto front evolution')\n",
    "            \n",
    "    if halloffame is not None:\n",
    "        halloffame.update(population)\n",
    "    else: \n",
    "        hof_size=0\n",
    "    record = stats.compile(population) if stats else {}\n",
    "    logbook.record(gen=0, nevals=len(invalid_ind), **record)\n",
    "\n",
    "    offspring = population\n",
    "    # Begin the generational process\n",
    "    for gen in tqdm(range(1, ngen + 1)):\n",
    "        \n",
    "        #Apply selection mechanism based on dominance and crowding distance\n",
    "        offspring = [toolbox.clone(ind) for ind in offspring]\n",
    "        offspring = algorithms.varOr(offspring, toolbox, len(offspring), cxpb, mutpb)\n",
    "      \n",
    "        # Evaluate the individuals with an invalid fitness\n",
    "        invalid_ind = [ind for ind in offspring if not ind.fitness.valid]\n",
    "        \n",
    "        if multiThread == True: \n",
    "            print(f'--------Entering generation {gen}--------')\n",
    "            with ThreadPoolExecutor() as executor:\n",
    "                futures = []\n",
    "                for ind in invalid_ind: \n",
    "                    future = executor.submit(toolbox.evaluate, ind)\n",
    "                    futures.append(future)\n",
    "                fitnesses = [future.result() for future in futures]\n",
    "        else: \n",
    "            print(f'--------Entering generation {gen}--------')\n",
    "            fitnesses = list(toolbox.map(toolbox.evaluate, invalid_ind))\n",
    "        \n",
    "        for ind, fit in zip(invalid_ind, fitnesses):\n",
    "            ind.fitness.values = fit\n",
    "\n",
    "        # Update the hall of fame with the generated individuals\n",
    "        if halloffame is not None:\n",
    "            halloffame.update(offspring)\n",
    "\n",
    "        #NSGA II parents selection. Toolbox.select must be set up to NSGA II in main script. \n",
    "        population, fits = toolbox.select(offspring, int(len(offspring)/2))\n",
    "        \n",
    "        offspring = tools.emo.selTournamentDCDSPEAII(population, len(population)*2)\n",
    "        # Append the current generation statistics to the logbook\n",
    "        record = stats.compile(population) if stats else {}\n",
    "        logbook.record(gen=gen, nevals=len(invalid_ind), **record)\n",
    "        if verbose:\n",
    "            StatisticsDataFrame = (logbook.stream)\n",
    "            \n",
    "        paretoFrontAAE = [ind.fitness.values[0] for ind in hof.items]\n",
    "        paretoFrontSize = [ind.fitness.values[1] for ind in hof.items]\n",
    "        \n",
    "        if plot == True:\n",
    "            ax.plot(paretoFrontSize, paretoFrontAAE, linestyle= 'none', marker = 'o')\n",
    "            plt.show(block=False)\n",
    "            plt.pause(.01)\n",
    "\n",
    "    end = time.time()\n",
    "    \n",
    "    print(f'--------Algorithm execution took {end - start} s--------')\n",
    "    return population, logbook, halloffame, StatisticsDataFrame"
   ]
  },
  {
   "cell_type": "markdown",
   "id": "766fcc72",
   "metadata": {},
   "source": [
    "#### 5. Parameters definition"
   ]
  },
  {
   "cell_type": "code",
   "execution_count": null,
   "id": "628f9c61",
   "metadata": {
    "scrolled": false
   },
   "outputs": [],
   "source": [
    "#Defining fitness class\n",
    "creator.create(\"FitnessMin\", base.Fitness, weights=(-1,-1))\n",
    "\n",
    "#Defining individuals shape and associating fitness attribute\n",
    "creator.create(\"Individual\", gp.PrimitiveTree, fitness=creator.FitnessMin)\n",
    "\n",
    "#Creating toolbox to register: population creation, evaluation function, selection mecanism\n",
    "#and genetic operators\n",
    "toolbox = base.Toolbox()\n",
    "toolbox.register(\"expr\", gp.genHalfAndHalf, pset=pset, min_=1, max_=2)\n",
    "toolbox.register(\"individual\", tools.initIterate, creator.Individual, toolbox.expr)\n",
    "toolbox.register(\"population\", tools.initRepeat, list, toolbox.individual)\n",
    "toolbox.register(\"compile\", gp.compile, pset=pset)\n",
    "toolbox.register(\"evaluate\", evaluate, dataframe=slow_wind, forecast=forecast)\n",
    "#toolbox.register(\"select\", tools.selNSGA2)\n",
    "toolbox.register(\"select\", tools.selSPEA2)\n",
    "toolbox.register(\"mate\", gp.cxOnePoint)\n",
    "toolbox.register(\"expr_mut\", gp.genFull, min_=0, max_=2)\n",
    "toolbox.register(\"mutate\", gp.mutUniform, expr=toolbox.expr_mut, pset=pset)\n",
    "maxHeight = 10\n",
    "toolbox.decorate(\"mate\", gp.staticLimit(key=operator.attrgetter(\"height\"), max_value=maxHeight))\n",
    "toolbox.decorate(\"mutate\", gp.staticLimit(key=operator.attrgetter(\"height\"), max_value=maxHeight))"
   ]
  },
  {
   "cell_type": "markdown",
   "id": "6e83c5c2",
   "metadata": {},
   "source": [
    "#### 6. Algorithm initialization"
   ]
  },
  {
   "cell_type": "code",
   "execution_count": null,
   "id": "55ac9c52",
   "metadata": {
    "scrolled": true
   },
   "outputs": [],
   "source": [
    "if __name__ == \"__main__\": \n",
    "    \n",
    "    random.seed(318)\n",
    "    CPUs = None\n",
    "    multiProcess = False\n",
    "    multiThread = False\n",
    "    \n",
    "    print('------Let\\'s select algorithm parameters------')\n",
    "    popSize=int(input('Select number of individuals: '))\n",
    "    pop = toolbox.population(n=popSize)\n",
    "    cxpb = float(input('Select crossover probability: '))\n",
    "    mtpb = float(input('Select mutation probability: '))\n",
    "    ngen = int(input('Select number of generations: '))\n",
    "    accelerator = int(input('Select accelerator: Multithreading(1), multiprocessing(2) or none(3): '))\n",
    "    print(f'{popSize};{cxpb};{mtpb};{ngen};{maxHeight};{accelerator};', file=open(r'C:\\Users\\Christian Mariscal\\Documents\\TFM\\venv_TFM\\results\\slow\\multi\\SPEA_II\\genStats\\results.txt', 'a'))\n",
    "    if accelerator == 1: \n",
    "        multiThread = True\n",
    "    elif accelerator == 2:\n",
    "        multiProcess = True\n",
    "        CPUs = int(input(f'Select number of cpu\\'s for multiprocessing (CPUs available = {multiprocessing.cpu_count()}): '))\n",
    "        pool = multiprocessing.Pool(CPUs)\n",
    "        toolbox.register(\"map\", pool.map)\n",
    "        \n",
    "    hof = tools.ParetoFront()\n",
    "    stats_fit_AAE = tools.Statistics(lambda ind: ind.fitness.values[0])\n",
    "    stats_size = tools.Statistics(len)\n",
    "    stats_height = tools.Statistics(lambda ind: ind.height)\n",
    "    mstats = tools.MultiStatistics(AAE=stats_fit_AAE, size=stats_size, height=stats_height)\n",
    "    mstats.register(\"avg\", numpy.mean)\n",
    "    mstats.register(\"std\", numpy.std)\n",
    "    mstats.register(\"min\", numpy.min)\n",
    "    mstats.register(\"max\", numpy.max)\n",
    "    \n",
    "    pop, log, hof, StatisticsDataFrame = eaSimpleOrSPEAII(pop, toolbox, cxpb, mtpb, ngen, stats=mstats,\n",
    "                                   halloffame=hof, verbose=True, plot = True, multiThread = multiThread, multiProcess = multiProcess)\n",
    "    \n",
    "    #Extracting simpler equation\n",
    "    ParetoFrontEqs=[EquationSimplifier(king.__str__()) for king in hof.items]\n",
    "    frontEqsFitness = list(zip(ParetoFrontEqs, [king.fitness.values for king in hof.items]))\n",
    "    print(f'------Pareto front equations are being saved------')\n",
    "    print(frontEqsFitness, file=open(r'C:\\Users\\Christian Mariscal\\Documents\\TFM\\venv_TFM\\results\\slow\\multi\\SPEA_II\\paretoEqs\\paretoeqs.txt', 'a'))\n",
    "    print(f'------Pareto front equations saved------')\n",
    "    \n",
    "    #Save stats to csv\n",
    "    StatsToCsv(StatisticsDataFrame)"
   ]
  },
  {
   "cell_type": "markdown",
   "id": "7565e213",
   "metadata": {},
   "source": [
    "#### 7. Graphs"
   ]
  },
  {
   "cell_type": "code",
   "execution_count": null,
   "id": "994d4bf0",
   "metadata": {},
   "outputs": [],
   "source": [
    "if __name__ == '__main__': \n",
    "    baseline = 24.92852089\n",
    "    plotPareto(hof)\n",
    "    sizeAvgMax(StatisticsDataFrame)\n",
    "    depthMaxAvg(StatisticsDataFrame, maxHeight)\n",
    "    absErrMinAvg(StatisticsDataFrame)"
   ]
  }
 ],
 "metadata": {
  "kernelspec": {
   "display_name": "Python 3 (ipykernel)",
   "language": "python",
   "name": "python3"
  },
  "language_info": {
   "codemirror_mode": {
    "name": "ipython",
    "version": 3
   },
   "file_extension": ".py",
   "mimetype": "text/x-python",
   "name": "python",
   "nbconvert_exporter": "python",
   "pygments_lexer": "ipython3",
   "version": "3.10.5"
  }
 },
 "nbformat": 4,
 "nbformat_minor": 5
}
